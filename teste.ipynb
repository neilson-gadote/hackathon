{
  "nbformat": 4,
  "nbformat_minor": 0,
  "metadata": {
    "colab": {
      "name": "teste.ipynb",
      "provenance": [],
      "collapsed_sections": []
    },
    "kernelspec": {
      "name": "python3",
      "display_name": "Python 3"
    },
    "language_info": {
      "name": "python"
    }
  },
  "cells": [
    {
      "cell_type": "code",
      "metadata": {
        "id": "y46rAhQavDqu"
      },
      "source": [
        "import random\n",
        "import base64\n",
        "\n",
        "entrada = open(\"dados.txt\").read()\n",
        "saida = open(\"sso.html\", \"w\")\n",
        "\n",
        "cont = entrada.count('\"}')\n",
        "\n",
        "cont = random.randint(-100, 100) + cont\n",
        "\n",
        "if cont < 100 :\n",
        "    data_uri = base64.b64encode(open('1.jpg', 'rb').read()).decode('utf-8')\n",
        "    saida.write(\"\"\"<html>\n",
        "               <head><title>Teste</title></head>\n",
        "               <body>\n",
        "                <div style='float:left'>Quantidade de usuários na plataforma:\"\"\"+ str(cont) +\"\"\".</div>\n",
        "                <img src='data:image/jpeg;base64,\"\"\" + data_uri + \"\"\"'>\n",
        "               </body>\n",
        "               </html>\"\"\")\n",
        "elif cont > 200 :\n",
        "    data_uri = base64.b64encode(open('3.jpg', 'rb').read()).decode('utf-8')\n",
        "    saida.write(\"\"\"<html>\n",
        "               <head><title>Teste</title></head>\n",
        "               <body>\n",
        "                <div style='float:left'>Quantidade de usuários na plataforma:\"\"\"+ str(cont) +\"\"\".</div>\n",
        "                <img src='data:image/jpeg;base64,\"\"\" + data_uri + \"\"\"'>\n",
        "               </body>\n",
        "               </html>\"\"\")\n",
        "else :\n",
        "    data_uri = base64.b64encode(open('2.jpg', 'rb').read()).decode('utf-8')\n",
        "    saida.write(\"\"\"<html>\n",
        "               <head><title>Teste</title></head>\n",
        "               <body>\n",
        "                <div style='float:left'>Quantidade de usuários na plataforma:\"\"\"+ str(cont) +\"\"\".</div>\n",
        "                <img src='data:image/jpeg;base64,\"\"\" + data_uri + \"\"\"'>\n",
        "               </body>\n",
        "               </html>\"\"\")\n",
        "              "
      ],
      "execution_count": 33,
      "outputs": []
    },
    {
      "cell_type": "code",
      "metadata": {
        "id": "s3Q-6-djR2Sn"
      },
      "source": [
        ""
      ],
      "execution_count": null,
      "outputs": []
    }
  ]
}